{
 "cells": [
  {
   "cell_type": "code",
   "execution_count": 2,
   "metadata": {},
   "outputs": [
    {
     "name": "stdout",
     "output_type": "stream",
     "text": [
      "Welcome, choose your order: \n",
      "1 Cheese Burger\n",
      "2 Mushroom Burger\n",
      "3 Classic Burger\n",
      "beef burger, Cheddar, onion and tomato \n",
      "Calories:  600 \n",
      "Price:  30\n",
      "Your order is:\n",
      "qty              price\n",
      "2 Cheese Burger     60\n",
      "total price: 60, The VAT: 9.0, final cost: 69.0\n"
     ]
    }
   ],
   "source": [
    "VAT = lambda total: total*0.15\n",
    "\n",
    "cheese_burger = {\n",
    "    \"name\" : \"Cheese Burger\",\n",
    "    \"price\":30,\n",
    "    \"calories\":600,\n",
    "    \"ingredients\":\"beef burger, Cheddar, onion and tomato\"\n",
    "    }\n",
    "mushroom_burger = {\n",
    "    \"name\" : \"Mushroom Burger\",\n",
    "    \"price\":34,\n",
    "    \"calories\":666,\n",
    "    \"ingredients\":\"Two patty of beef with mushroom souce on it\"\n",
    "}\n",
    "classic_burger = {\n",
    "    \"name\" : \"Classic Burger\",\n",
    "    \"price\":29,\n",
    "    \"calories\":532,\n",
    "    \"ingredients\":\"Two patty of beef with mushroom souce on it\"\n",
    "}\n",
    "menu = {\n",
    "    1:cheese_burger,\n",
    "    2:mushroom_burger,\n",
    "    3:classic_burger\n",
    "}\n",
    "\n",
    "order = []\n",
    "menu[1][\"name\"]\n",
    "print(f\"Welcome, choose your order: \")\n",
    "flag = True\n",
    "while flag:\n",
    "    item_num=1\n",
    "    for i in menu:\n",
    "        print(item_num,menu[item_num][\"name\"])\n",
    "        item_num+=1\n",
    "    ordered_item = int(input())\n",
    "    if ordered_item not in menu:\n",
    "        print(\"Your order is not on the menu please try again.\")\n",
    "    else:\n",
    "        print(menu[ordered_item][\"ingredients\"],\n",
    "            \"\\nCalories: \",menu[ordered_item][\"calories\"],\n",
    "            \"\\nPrice: \",menu[ordered_item][\"price\"])\n",
    "        x = int(input(\"1.Add to order, 2.Return to menu: \\n\"))\n",
    "        \n",
    "        if x == 1:\n",
    "            qty= int(input(\"How many want to add?\\n\"))\n",
    "            order.append([menu[ordered_item],qty]) \n",
    "            flag = False\n",
    "            x = int(input(\"1.Checkout, 2.Return to menu: \\n\"))\n",
    "            if x==2:\n",
    "                flag=True\n",
    "total =0\n",
    "print(f\"Your order is:\")\n",
    "print(f\"qty              price\")\n",
    "for i in order:\n",
    "    print(i[1],i[0][\"name\"],\"   \",i[1]*i[0][\"price\"])\n",
    "    total += i[1]*i[0][\"price\"]\n",
    "    \n",
    "print(f\"total price: {total}, The VAT: {VAT(total)}, final cost: {total+VAT(total)}\")\n"
   ]
  },
  {
   "cell_type": "code",
   "execution_count": 18,
   "metadata": {},
   "outputs": [
    {
     "data": {
      "text/plain": [
       "114.99999999999999"
      ]
     },
     "execution_count": 18,
     "metadata": {},
     "output_type": "execute_result"
    }
   ],
   "source": [
    "\n",
    "\n",
    "x = lambda s: float(s)* float(1.15)\n",
    "x(100)"
   ]
  },
  {
   "cell_type": "code",
   "execution_count": 3,
   "metadata": {},
   "outputs": [
    {
     "data": {
      "text/plain": [
       "1"
      ]
     },
     "execution_count": 3,
     "metadata": {},
     "output_type": "execute_result"
    }
   ],
   "source": [
    "x=1\n",
    "x"
   ]
  }
 ],
 "metadata": {
  "kernelspec": {
   "display_name": "Python 3",
   "language": "python",
   "name": "python3"
  },
  "language_info": {
   "codemirror_mode": {
    "name": "ipython",
    "version": 3
   },
   "file_extension": ".py",
   "mimetype": "text/x-python",
   "name": "python",
   "nbconvert_exporter": "python",
   "pygments_lexer": "ipython3",
   "version": "3.10.6"
  },
  "orig_nbformat": 4,
  "vscode": {
   "interpreter": {
    "hash": "149b89a38907e440de612d7f39cfdd2a43d2a636577520bfbbfc3d7cef0bee1f"
   }
  }
 },
 "nbformat": 4,
 "nbformat_minor": 2
}
